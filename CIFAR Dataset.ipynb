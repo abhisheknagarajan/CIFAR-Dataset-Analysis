{
 "cells": [
  {
   "cell_type": "markdown",
   "id": "4b05036b",
   "metadata": {},
   "source": [
    "# CIFAR Dataset "
   ]
  },
  {
   "cell_type": "code",
   "execution_count": 66,
   "id": "40d8f976",
   "metadata": {},
   "outputs": [],
   "source": [
    "import numpy as np\n",
    "import pandas as pd\n",
    "import tensorflow as tf\n",
    "import matplotlib.pyplot as plt"
   ]
  },
  {
   "cell_type": "code",
   "execution_count": 67,
   "id": "199d5caa",
   "metadata": {},
   "outputs": [],
   "source": [
    "# Ignore Warnings\n",
    "import warnings\n",
    "warnings.filterwarnings('ignore')\n",
    "import random\n",
    "random.seed(0)"
   ]
  },
  {
   "cell_type": "code",
   "execution_count": 68,
   "id": "024a5d26",
   "metadata": {},
   "outputs": [
    {
     "data": {
      "text/plain": [
       "'2.5.0'"
      ]
     },
     "execution_count": 68,
     "metadata": {},
     "output_type": "execute_result"
    }
   ],
   "source": [
    "# Checking the version of TensorFLow\n",
    "\n",
    "tf.__version__"
   ]
  },
  {
   "cell_type": "markdown",
   "id": "a542d836",
   "metadata": {},
   "source": [
    "# CIFAR 10 DATASET ANALYSIS\n",
    "\n",
    "CIFAR-10  is an established computer-vision dataset used for object recognition. It is a subset of the 80 million tiny images dataset and consists of 60,000 32x32 color images containing one of 10 object classes, with 6000 images per class. It was collected by Alex Krizhevsky, Vinod Nair, and Geoffrey Hinton. \n",
    "\n",
    "<b>This is a dataset of 50,000 32x32 color training images and 10,000 test images, labeled over 10 categories. See more info at the CIFAR homepage.</b>\n",
    "\n",
    "## The classes are:\n",
    "\n",
    "Label\tand Description : <br><br>\n",
    "0\tairplane<br>\n",
    "1\tautomobile<br>\n",
    "2\tbird<br>\n",
    "3\tcat<br>\n",
    "4\tdeer<br>\n",
    "5\tdog<br>\n",
    "6\tfrog<br>\n",
    "7\thorse<br>\n",
    "8\tship<br>\n",
    "9\ttruck<br>"
   ]
  },
  {
   "cell_type": "code",
   "execution_count": 69,
   "id": "84e0d553",
   "metadata": {},
   "outputs": [],
   "source": [
    "# Loading the CIFAR Datasets"
   ]
  },
  {
   "cell_type": "code",
   "execution_count": 70,
   "id": "1f551a69",
   "metadata": {},
   "outputs": [],
   "source": [
    "from tensorflow.keras.datasets import cifar10\n",
    "(X_train,y_train),(X_test,y_test) = cifar10.load_data()"
   ]
  },
  {
   "cell_type": "code",
   "execution_count": 71,
   "id": "df182ce9",
   "metadata": {},
   "outputs": [
    {
     "name": "stdout",
     "output_type": "stream",
     "text": [
      "(50000, 32, 32, 3)\n",
      "(50000, 1)\n",
      "(10000, 32, 32, 3)\n",
      "(10000, 1)\n"
     ]
    }
   ],
   "source": [
    "# Checking the shape of X_train, X_test, y_train, y_test\n",
    "print(X_train.shape)\n",
    "print(y_train.shape)\n",
    "print(X_test.shape)\n",
    "print(y_test.shape)"
   ]
  },
  {
   "cell_type": "code",
   "execution_count": 72,
   "id": "7f1b777e",
   "metadata": {},
   "outputs": [
    {
     "data": {
      "text/plain": [
       "<matplotlib.image.AxesImage at 0x24232a37dd8>"
      ]
     },
     "execution_count": 72,
     "metadata": {},
     "output_type": "execute_result"
    },
    {
     "data": {
      "image/png": "[encoded data removed]",
      "text/plain": [
       "<Figure size 432x288 with 1 Axes>"
      ]
     },
     "metadata": {
      "needs_background": "light"
     },
     "output_type": "display_data"
    }
   ],
   "source": [
    "plt.imshow(X_train[1])"
   ]
  },
  {
   "cell_type": "code",
   "execution_count": 73,
   "id": "c47db7c7",
   "metadata": {},
   "outputs": [
    {
     "data": {
      "text/plain": [
       "(50000, 32, 32, 3)"
      ]
     },
     "execution_count": 73,
     "metadata": {},
     "output_type": "execute_result"
    }
   ],
   "source": [
    "X_train.shape"
   ]
  },
  {
   "cell_type": "code",
   "execution_count": 74,
   "id": "2d0a8942",
   "metadata": {},
   "outputs": [
    {
     "data": {
      "text/plain": [
       "array([9], dtype=uint8)"
      ]
     },
     "execution_count": 74,
     "metadata": {},
     "output_type": "execute_result"
    }
   ],
   "source": [
    "y_train[1]"
   ]
  },
  {
   "cell_type": "markdown",
   "id": "3a8a267a",
   "metadata": {},
   "source": [
    "From above the color image of Truck, it matches with the label of X_train which is 9 as per description from CIFAR Dataset"
   ]
  },
  {
   "cell_type": "code",
   "execution_count": 75,
   "id": "6e1d9cfa",
   "metadata": {},
   "outputs": [],
   "source": [
    "# Converting RGB to Grayscale (for easier Computation)"
   ]
  },
  {
   "cell_type": "code",
   "execution_count": 76,
   "id": "69fed9d2",
   "metadata": {},
   "outputs": [],
   "source": [
    "X_train1 = np.array(tf.image.rgb_to_grayscale(X_train))\n",
    "# tf.image.rgb_too_grayscale - converts one or more images from RGB to Grayscale\n",
    "\n",
    "X_test1 = np.array(tf.image.rgb_to_grayscale(X_test))"
   ]
  },
  {
   "cell_type": "code",
   "execution_count": 77,
   "id": "0ab7846d",
   "metadata": {},
   "outputs": [
    {
     "data": {
      "text/plain": [
       "((50000, 32, 32, 1), (10000, 32, 32, 1))"
      ]
     },
     "execution_count": 77,
     "metadata": {},
     "output_type": "execute_result"
    }
   ],
   "source": [
    "X_train1.shape , X_test1.shape"
   ]
  },
  {
   "cell_type": "code",
   "execution_count": 78,
   "id": "c5fbd279",
   "metadata": {},
   "outputs": [
    {
     "name": "stdout",
     "output_type": "stream",
     "text": [
      "(50000, 1024)\n",
      "(10000, 1024)\n"
     ]
    }
   ],
   "source": [
    "# Reshaping the Image\n",
    "\n",
    "X_train2 = X_train1.reshape(50000,32*32)\n",
    "X_test2 = X_test1.reshape(10000,32*32)\n",
    "print(X_train2.shape)\n",
    "print(X_test2.shape)"
   ]
  },
  {
   "cell_type": "code",
   "execution_count": 79,
   "id": "5ad11d65",
   "metadata": {},
   "outputs": [],
   "source": [
    "# Normalizing the Image\n",
    "X_train3 = X_train2/255.0\n",
    "X_test3 = X_test2/255.0"
   ]
  },
  {
   "cell_type": "code",
   "execution_count": 80,
   "id": "10979b61",
   "metadata": {},
   "outputs": [
    {
     "name": "stdout",
     "output_type": "stream",
     "text": [
      "Y_train shape (50000, 1)\n",
      "Y_test shape (10000, 1)\n"
     ]
    }
   ],
   "source": [
    "# One-Hot Encoding the Class Vector\n",
    "print(\"Y_train shape\",y_train.shape)\n",
    "print(\"Y_test shape\",y_test.shape)"
   ]
  },
  {
   "cell_type": "code",
   "execution_count": 81,
   "id": "cbc6a1ca",
   "metadata": {},
   "outputs": [],
   "source": [
    "from tensorflow.keras.utils import to_categorical   # Converts a class labels vector (Integer) to Binary class Matrix\n",
    "\n",
    "y_train3 = to_categorical(y_train,num_classes=10)\n",
    "y_test3 = to_categorical(y_test,num_classes=10)\n"
   ]
  },
  {
   "cell_type": "code",
   "execution_count": 82,
   "id": "2d5ee760",
   "metadata": {},
   "outputs": [
    {
     "name": "stdout",
     "output_type": "stream",
     "text": [
      "[9]\n"
     ]
    },
    {
     "data": {
      "text/plain": [
       "array([0., 0., 0., 0., 0., 0., 0., 0., 0., 1.], dtype=float32)"
      ]
     },
     "execution_count": 82,
     "metadata": {},
     "output_type": "execute_result"
    }
   ],
   "source": [
    "print(y_train[1])\n",
    "y_train3[1]       # 9 will be donated in below format using to_categorical"
   ]
  },
  {
   "cell_type": "code",
   "execution_count": 83,
   "id": "94899cad",
   "metadata": {},
   "outputs": [],
   "source": [
    "# Model Building"
   ]
  },
  {
   "cell_type": "code",
   "execution_count": 84,
   "id": "6731f3c7",
   "metadata": {},
   "outputs": [],
   "source": [
    "from tensorflow.keras.models import Sequential\n",
    "from tensorflow.keras.layers import Dense, Flatten"
   ]
  },
  {
   "cell_type": "code",
   "execution_count": 85,
   "id": "e1fb1ff8",
   "metadata": {},
   "outputs": [],
   "source": [
    "model = Sequential()\n",
    "model.add(Flatten())\n",
    "model.add(Dense(units=128,activation='relu',input_shape=(1024,1)))\n",
    "model.add(Dense(units=64,activation='relu'))\n",
    "model.add(Dense(units=32,activation='relu'))\n",
    "model.add(Dense(units=10,activation='softmax'))"
   ]
  },
  {
   "cell_type": "code",
   "execution_count": 86,
   "id": "537a3432",
   "metadata": {},
   "outputs": [],
   "source": [
    "# Compiling the Model\n",
    "model.compile(optimizer='sgd',loss='categorical_crossentropy', metrics=['accuracy'])"
   ]
  },
  {
   "cell_type": "code",
   "execution_count": 87,
   "id": "9d657725",
   "metadata": {},
   "outputs": [
    {
     "name": "stdout",
     "output_type": "stream",
     "text": [
      "Epoch 1/50\n",
      "1563/1563 [==============================] - 15s 3ms/step - loss: 2.1297 - accuracy: 0.2210\n",
      "Epoch 2/50\n",
      "1563/1563 [==============================] - 4s 3ms/step - loss: 1.9881 - accuracy: 0.2817\n",
      "Epoch 3/50\n",
      "1563/1563 [==============================] - 4s 3ms/step - loss: 1.9136 - accuracy: 0.3130\n",
      "Epoch 4/50\n",
      "1563/1563 [==============================] - 4s 3ms/step - loss: 1.8591 - accuracy: 0.3359\n",
      "Epoch 5/50\n",
      "1563/1563 [==============================] - 4s 3ms/step - loss: 1.8196 - accuracy: 0.3514\n",
      "Epoch 6/50\n",
      "1563/1563 [==============================] - 4s 3ms/step - loss: 1.7875 - accuracy: 0.3635\n",
      "Epoch 7/50\n",
      "1563/1563 [==============================] - 4s 3ms/step - loss: 1.7622 - accuracy: 0.3735\n",
      "Epoch 8/50\n",
      "1563/1563 [==============================] - 4s 2ms/step - loss: 1.7382 - accuracy: 0.3833\n",
      "Epoch 9/50\n",
      "1563/1563 [==============================] - 4s 2ms/step - loss: 1.7173 - accuracy: 0.3876\n",
      "Epoch 10/50\n",
      "1563/1563 [==============================] - 4s 3ms/step - loss: 1.6970 - accuracy: 0.3954\n",
      "Epoch 11/50\n",
      "1563/1563 [==============================] - 4s 3ms/step - loss: 1.6805 - accuracy: 0.4020\n",
      "Epoch 12/50\n",
      "1563/1563 [==============================] - 4s 3ms/step - loss: 1.6651 - accuracy: 0.4091\n",
      "Epoch 13/50\n",
      "1563/1563 [==============================] - 5s 3ms/step - loss: 1.6491 - accuracy: 0.4149\n",
      "Epoch 14/50\n",
      "1563/1563 [==============================] - 4s 2ms/step - loss: 1.6347 - accuracy: 0.4202\n",
      "Epoch 15/50\n",
      "1563/1563 [==============================] - 4s 2ms/step - loss: 1.6207 - accuracy: 0.4256\n",
      "Epoch 16/50\n",
      "1563/1563 [==============================] - 4s 2ms/step - loss: 1.6094 - accuracy: 0.4290\n",
      "Epoch 17/50\n",
      "1563/1563 [==============================] - 4s 2ms/step - loss: 1.5943 - accuracy: 0.4351\n",
      "Epoch 18/50\n",
      "1563/1563 [==============================] - 4s 3ms/step - loss: 1.5850 - accuracy: 0.4374\n",
      "Epoch 19/50\n",
      "1563/1563 [==============================] - 4s 2ms/step - loss: 1.5727 - accuracy: 0.4429\n",
      "Epoch 20/50\n",
      "1563/1563 [==============================] - 4s 2ms/step - loss: 1.5643 - accuracy: 0.4448\n",
      "Epoch 21/50\n",
      "1563/1563 [==============================] - 4s 3ms/step - loss: 1.5505 - accuracy: 0.4517\n",
      "Epoch 22/50\n",
      "1563/1563 [==============================] - 4s 3ms/step - loss: 1.5428 - accuracy: 0.4521\n",
      "Epoch 23/50\n",
      "1563/1563 [==============================] - 4s 3ms/step - loss: 1.5311 - accuracy: 0.4580\n",
      "Epoch 24/50\n",
      "1563/1563 [==============================] - 4s 3ms/step - loss: 1.5227 - accuracy: 0.4589\n",
      "Epoch 25/50\n",
      "1563/1563 [==============================] - 5s 4ms/step - loss: 1.5153 - accuracy: 0.4620\n",
      "Epoch 26/50\n",
      "1563/1563 [==============================] - 6s 4ms/step - loss: 1.5073 - accuracy: 0.4662\n",
      "Epoch 27/50\n",
      "1563/1563 [==============================] - 6s 4ms/step - loss: 1.4969 - accuracy: 0.4682\n",
      "Epoch 28/50\n",
      "1563/1563 [==============================] - 4s 3ms/step - loss: 1.4893 - accuracy: 0.4734\n",
      "Epoch 29/50\n",
      "1563/1563 [==============================] - 4s 2ms/step - loss: 1.4810 - accuracy: 0.4732\n",
      "Epoch 30/50\n",
      "1563/1563 [==============================] - 4s 3ms/step - loss: 1.4731 - accuracy: 0.4793\n",
      "Epoch 31/50\n",
      "1563/1563 [==============================] - 4s 3ms/step - loss: 1.4668 - accuracy: 0.4803\n",
      "Epoch 32/50\n",
      "1563/1563 [==============================] - 5s 3ms/step - loss: 1.4571 - accuracy: 0.4848\n",
      "Epoch 33/50\n",
      "1563/1563 [==============================] - 4s 3ms/step - loss: 1.4493 - accuracy: 0.4864\n",
      "Epoch 34/50\n",
      "1563/1563 [==============================] - 4s 3ms/step - loss: 1.4416 - accuracy: 0.4886\n",
      "Epoch 35/50\n",
      "1563/1563 [==============================] - 4s 3ms/step - loss: 1.4367 - accuracy: 0.4902\n",
      "Epoch 36/50\n",
      "1563/1563 [==============================] - 4s 3ms/step - loss: 1.4295 - accuracy: 0.4919\n",
      "Epoch 37/50\n",
      "1563/1563 [==============================] - 4s 3ms/step - loss: 1.4219 - accuracy: 0.4946\n",
      "Epoch 38/50\n",
      "1563/1563 [==============================] - 5s 3ms/step - loss: 1.4172 - accuracy: 0.4976\n",
      "Epoch 39/50\n",
      "1563/1563 [==============================] - 5s 3ms/step - loss: 1.4044 - accuracy: 0.5030\n",
      "Epoch 40/50\n",
      "1563/1563 [==============================] - 5s 3ms/step - loss: 1.4013 - accuracy: 0.5037\n",
      "Epoch 41/50\n",
      "1563/1563 [==============================] - 5s 3ms/step - loss: 1.3944 - accuracy: 0.5069\n",
      "Epoch 42/50\n",
      "1563/1563 [==============================] - ETA: 0s - loss: 1.3898 - accuracy: 0.50 - 5s 3ms/step - loss: 1.3898 - accuracy: 0.5066\n",
      "Epoch 43/50\n",
      "1563/1563 [==============================] - 5s 3ms/step - loss: 1.3812 - accuracy: 0.5099\n",
      "Epoch 44/50\n",
      "1563/1563 [==============================] - 5s 3ms/step - loss: 1.3762 - accuracy: 0.5134\n",
      "Epoch 45/50\n",
      "1563/1563 [==============================] - 5s 3ms/step - loss: 1.3709 - accuracy: 0.5140\n",
      "Epoch 46/50\n",
      "1563/1563 [==============================] - 5s 3ms/step - loss: 1.3632 - accuracy: 0.5177\n",
      "Epoch 47/50\n",
      "1563/1563 [==============================] - 4s 3ms/step - loss: 1.3571 - accuracy: 0.5212\n",
      "Epoch 48/50\n",
      "1563/1563 [==============================] - 4s 3ms/step - loss: 1.3509 - accuracy: 0.5210\n",
      "Epoch 49/50\n",
      "1563/1563 [==============================] - 4s 3ms/step - loss: 1.3473 - accuracy: 0.5234\n",
      "Epoch 50/50\n",
      "1563/1563 [==============================] - 5s 3ms/step - loss: 1.3392 - accuracy: 0.5262\n"
     ]
    },
    {
     "data": {
      "text/plain": [
       "<tensorflow.python.keras.callbacks.History at 0x2420023f7b8>"
      ]
     },
     "execution_count": 87,
     "metadata": {},
     "output_type": "execute_result"
    }
   ],
   "source": [
    "# Fit the Model\n",
    "model.fit(X_train3,y_train3,batch_size=32,epochs=50)"
   ]
  },
  {
   "cell_type": "code",
   "execution_count": 88,
   "id": "4734a8a8",
   "metadata": {},
   "outputs": [
    {
     "name": "stdout",
     "output_type": "stream",
     "text": [
      "Model: \"sequential_3\"\n",
      "_________________________________________________________________\n",
      "Layer (type)                 Output Shape              Param #   \n",
      "=================================================================\n",
      "flatten_3 (Flatten)          (None, 1024)              0         \n",
      "_________________________________________________________________\n",
      "dense_8 (Dense)              (None, 128)               131200    \n",
      "_________________________________________________________________\n",
      "dense_9 (Dense)              (None, 64)                8256      \n",
      "_________________________________________________________________\n",
      "dense_10 (Dense)             (None, 32)                2080      \n",
      "_________________________________________________________________\n",
      "dense_11 (Dense)             (None, 10)                330       \n",
      "=================================================================\n",
      "Total params: 141,866\n",
      "Trainable params: 141,866\n",
      "Non-trainable params: 0\n",
      "_________________________________________________________________\n"
     ]
    }
   ],
   "source": [
    "# Summary of the Model\n",
    "model.summary()"
   ]
  },
  {
   "cell_type": "code",
   "execution_count": 89,
   "id": "c74f19ad",
   "metadata": {},
   "outputs": [
    {
     "name": "stdout",
     "output_type": "stream",
     "text": [
      "313/313 [==============================] - 7s 2ms/step - loss: 1.6379 - accuracy: 0.4295\n"
     ]
    },
    {
     "data": {
      "text/plain": [
       "[1.63791823387146, 0.429500013589859]"
      ]
     },
     "execution_count": 89,
     "metadata": {},
     "output_type": "execute_result"
    }
   ],
   "source": [
    "# Model Evaluation\n",
    "model.evaluate(X_test3,y_test3)"
   ]
  },
  {
   "cell_type": "code",
   "execution_count": 90,
   "id": "275ad011",
   "metadata": {},
   "outputs": [],
   "source": [
    "# Model Prediction"
   ]
  },
  {
   "cell_type": "code",
   "execution_count": 91,
   "id": "55375fda",
   "metadata": {},
   "outputs": [
    {
     "data": {
      "text/plain": [
       "array([[0., 0., 0., 0., 0., 0., 0., 0., 1., 0.]], dtype=float32)"
      ]
     },
     "execution_count": 91,
     "metadata": {},
     "output_type": "execute_result"
    }
   ],
   "source": [
    "model.predict(X_test3[1].reshape(1,-1)).round()"
   ]
  },
  {
   "cell_type": "code",
   "execution_count": 92,
   "id": "b59a5f51",
   "metadata": {},
   "outputs": [
    {
     "data": {
      "text/plain": [
       "<matplotlib.image.AxesImage at 0x2422e7ed860>"
      ]
     },
     "execution_count": 92,
     "metadata": {},
     "output_type": "execute_result"
    },
    {
     "data": {
      "image/png": "[encoded data removed]",
      "text/plain": [
       "<Figure size 432x288 with 1 Axes>"
      ]
     },
     "metadata": {
      "needs_background": "light"
     },
     "output_type": "display_data"
    }
   ],
   "source": [
    "plt.imshow(X_test[1])"
   ]
  },
  {
   "cell_type": "code",
   "execution_count": 93,
   "id": "f0be8544",
   "metadata": {},
   "outputs": [
    {
     "data": {
      "text/plain": [
       "array([8], dtype=uint8)"
      ]
     },
     "execution_count": 93,
     "metadata": {},
     "output_type": "execute_result"
    }
   ],
   "source": [
    "y_test[1]"
   ]
  },
  {
   "cell_type": "markdown",
   "id": "e313801e",
   "metadata": {},
   "source": [
    "# Result\n",
    "\n",
    "- We have predicted the Image as Ship since the y_test prediction indicates as 8 (Ship) in CIFAR Dataset."
   ]
  },
  {
   "cell_type": "code",
   "execution_count": null,
   "id": "262b2a63",
   "metadata": {},
   "outputs": [],
   "source": []
  }
 ],
 "metadata": {
  "kernelspec": {
   "display_name": "Python 3",
   "language": "python",
   "name": "python3"
  },
  "language_info": {
   "codemirror_mode": {
    "name": "ipython",
    "version": 3
   },
   "file_extension": ".py",
   "mimetype": "text/x-python",
   "name": "python",
   "nbconvert_exporter": "python",
   "pygments_lexer": "ipython3",
   "version": "3.6.13"
  }
 },
 "nbformat": 4,
 "nbformat_minor": 5
}
